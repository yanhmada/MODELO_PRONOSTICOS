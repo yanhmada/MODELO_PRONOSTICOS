{
 "cells": [
  {
   "cell_type": "markdown",
   "id": "92248502",
   "metadata": {},
   "source": [
    "<summary>\n",
    "    <font size=\"5\" color=\"gray\"><b> CONVENIO CENACE-UNISON 2023-2025\n",
    " </b></font>\n",
    "</summary><br>\n",
    "<summary>\n",
    "    <font size=\"4\" color=\"orange\"><b> DESARROLLO DE PROTOTIPO: METODOLOGÍA CON APRENDIZAJE PROFUNDO PARA EL PRONÓSTICO A CORTO PLAZO DE DEMANDA DE ENERGÍA CON DATOS EN ADELANTO.\n",
    " </b></font>\n",
    "</summary>\n",
    "\n",
    "---\n",
    "\n",
    "<summary>\n",
    "    <font size=\"6\" color=\"gray\"><b> Libreta JNB1: Ingeniería de características \n",
    " </b></font>\n",
    "</summary>\n",
    "<summary>\n",
    "    <font size=\"5\" color=\"gray\"><b> Modelado parte 1\n",
    " </b></font>\n",
    "</summary>\n",
    "\n",
    "--- \n",
    "\n",
    "<summary>\n",
    "    <font size=\"4\" color=\"lightblue\"><b> MODELO ENCODER-DECODER CON SEÑALES DE DÍAS FESTIVOS, CLIMA Y DIA EN ADELANTO\n",
    " </b></font>\n",
    "</summary>\n",
    "\n",
    "---\n",
    "\n",
    "\n",
    "\n",
    "\n",
    "OLIVIA CAROLINA GUTÚ OCAMPO\n",
    "\n",
    "REYNA YANET HERNÁNDEZ MADA\n",
    "\n",
    "JULIO WAISSMAN VILANOVA (Responsable del proyecto)\n",
    "\n",
    "\n",
    "---\n",
    "\n",
    "<summary>\n",
    "    <font size=\"4\" color=\"orange\"><b> INPUTS\n",
    " </b></font>\n",
    "</summary>\n",
    "\n",
    "Archivo  **'/../MODELO_M3_DATASET_1/internal_inputs/GCRNO_complete_silver_[fecha_de_creación].csv'** creado en la libreta JNB0. \n",
    "\n",
    "\n",
    "--- \n",
    "<summary>\n",
    "    <font size=\"4\" color=\"orange\"><b> CHECK POINTS\n",
    " </b></font>\n",
    "</summary>\n",
    "\n",
    "\n",
    "No hay check points en esta libreta\n",
    "    \n",
    "\n",
    "---\n",
    "<summary>\n",
    "    <font size=\"4\" color=\"orange\"><b> OUTPUT (INTERNAL INPUTS)\n",
    " </b></font>\n",
    "</summary>\n",
    "\n",
    "<summary>\n",
    "    <font size=\"3\" color=\"gray\"><b> 'PCA' folder\n",
    " </b></font>\n",
    "</summary>\n",
    "   \n",
    "   * **'./internal_inputs/PCA/dataset_complete_components_train.csv'** : datos de entrenamiento con las primeros 2 componentes PCA agregados.\n",
    "   * **'./internal_inputs/PCA/scaler_model_clima.pkl'** parámetros del escalamiento estándar aplicado a las variables de clima previo al procedimiento de pca al conjunto de entrenamiento.\n",
    "   * **'./internal_inputs/PCA/pca_clima.pkl'** : parámetros del procedimiento de pca a las variables de clima del conjunto de entrenamiento.\n",
    "   * **'./internal_inputs/PCA/dataset_complete_components_[test/train/val] .csv'** : datos de prueba/entrenamiento/validación con las dos primeros 2 componentes PCA agregados, resultado de aplicar los parámetros correspondientes al conjunto de entrenamiento.\n",
    "    \n",
    "<summary>\n",
    "    <font size=\"3\" color=\"gray\"><b> 'MINMAX' folder\n",
    " </b></font>\n",
    "</summary>\n",
    "    \n",
    "   * **'./internal_inputs/MINMAX/scalers.pkl'** : parámetros del escalamiento al intervalo $[-1,1]$ aplicado al conjunto de entrenamiento\n",
    "     \n",
    "<summary>\n",
    "    <font size=\"3\" color=\"gray\"><b> 'TENSORS' folder\n",
    " </b></font>\n",
    "</summary>\n",
    " \n",
    " Tensores de entrada-salida correspondientes al conjunto de entrenamiento, validación y prueba (entradas de la libreta YOO-JNB2)\n",
    "   \n",
    "   * **'./internal_inputs/TENSORS/X_encoder_train.npy'** \n",
    "   * **'./internal_inputs/TENSORS/X_decoder_train.npy'** \n",
    "   * **'./internal_inputs/TENSORS/y_train.npy'** \n",
    "   * **'./internal_inputs/TENSORS/X_encoder_val.npy'** \n",
    "   * **'./internal_inputs/TENSORS/X_decoder_val.npy'** \n",
    "   * **'./internal_inputs/TENSORS/y_val.npy'** \n",
    "   * **'./internal_inputs/TENSORS/X_encoder_test.npy'** \n",
    "   * **'./internal_inputs/TENSORS/X_decoder_test.npy'** \n",
    "   * **'./internal_inputs/TENSORS/y_test.npy'** \n",
    "\n",
    "---\n",
    "<summary>\n",
    "    <font size=\"4\" color=\"orange\"><b> OUTPUT \n",
    " </b></font>\n",
    "</summary>\n",
    "\n",
    "   * **'outputs/model_info.txt'** : archivo con la información relevante sobre el proceso de entrenamiento."
   ]
  },
  {
   "cell_type": "markdown",
   "id": "8ca8d31f",
   "metadata": {
    "heading_collapsed": true
   },
   "source": [
    "## 1.   Importing libraries and functions"
   ]
  },
  {
   "cell_type": "code",
   "execution_count": 1,
   "id": "6816fd48",
   "metadata": {
    "hidden": true
   },
   "outputs": [],
   "source": [
    "#importar librerías\n",
    "import numpy as np\n",
    "import pandas as pd\n",
    "import datetime\n",
    "from dateutil.relativedelta import relativedelta\n",
    "import os\n",
    "\n",
    "# Normalización librarías\n",
    "from sklearn.preprocessing import MinMaxScaler\n",
    "from sklearn.metrics import r2_score\n",
    "from sklearn.decomposition import PCA\n",
    "import pickle as pk\n",
    "\n",
    "# librarías auxiliares\n",
    "from datetime import datetime, timedelta\n",
    "from datetime import date"
   ]
  },
  {
   "cell_type": "code",
   "execution_count": 2,
   "id": "c2f9bb4e",
   "metadata": {
    "hidden": true
   },
   "outputs": [],
   "source": [
    "# Importing PCA functions for futher processing\n",
    "%run 'funciones/Y00pcafunction.ipynb'"
   ]
  },
  {
   "cell_type": "markdown",
   "id": "9c0b28f1",
   "metadata": {
    "heading_collapsed": true
   },
   "source": [
    "## 2.   Acceso a  datos silver"
   ]
  },
  {
   "cell_type": "code",
   "execution_count": 3,
   "id": "2a2a2b0a",
   "metadata": {
    "hidden": true
   },
   "outputs": [
    {
     "data": {
      "text/html": [
       "<div>\n",
       "<style scoped>\n",
       "    .dataframe tbody tr th:only-of-type {\n",
       "        vertical-align: middle;\n",
       "    }\n",
       "\n",
       "    .dataframe tbody tr th {\n",
       "        vertical-align: top;\n",
       "    }\n",
       "\n",
       "    .dataframe thead th {\n",
       "        text-align: right;\n",
       "    }\n",
       "</style>\n",
       "<table border=\"1\" class=\"dataframe\">\n",
       "  <thead>\n",
       "    <tr style=\"text-align: right;\">\n",
       "      <th></th>\n",
       "      <th>Hour</th>\n",
       "      <th>Energy_Demand</th>\n",
       "      <th>Day</th>\n",
       "      <th>Month</th>\n",
       "      <th>Tmax-Cab</th>\n",
       "      <th>Tmax-Hmo</th>\n",
       "      <th>Tmax-Obr</th>\n",
       "      <th>Tmax-Lmo</th>\n",
       "      <th>Tmax-Cul</th>\n",
       "      <th>Tmin-Cab</th>\n",
       "      <th>...</th>\n",
       "      <th>Tuesday_Aft_Hol</th>\n",
       "      <th>Easter_week</th>\n",
       "      <th>May_1s</th>\n",
       "      <th>May_10t</th>\n",
       "      <th>Sept_16</th>\n",
       "      <th>Nov_2nd</th>\n",
       "      <th>Before_Christmas_NY</th>\n",
       "      <th>Christmas_NY</th>\n",
       "      <th>After_Christmas_NY</th>\n",
       "      <th>Date_timed</th>\n",
       "    </tr>\n",
       "    <tr>\n",
       "      <th>Date_time</th>\n",
       "      <th></th>\n",
       "      <th></th>\n",
       "      <th></th>\n",
       "      <th></th>\n",
       "      <th></th>\n",
       "      <th></th>\n",
       "      <th></th>\n",
       "      <th></th>\n",
       "      <th></th>\n",
       "      <th></th>\n",
       "      <th></th>\n",
       "      <th></th>\n",
       "      <th></th>\n",
       "      <th></th>\n",
       "      <th></th>\n",
       "      <th></th>\n",
       "      <th></th>\n",
       "      <th></th>\n",
       "      <th></th>\n",
       "      <th></th>\n",
       "      <th></th>\n",
       "    </tr>\n",
       "  </thead>\n",
       "  <tbody>\n",
       "    <tr>\n",
       "      <th>2022-05-12 22:00:00</th>\n",
       "      <td>22</td>\n",
       "      <td>3777</td>\n",
       "      <td>3</td>\n",
       "      <td>5</td>\n",
       "      <td>34.0</td>\n",
       "      <td>37.0</td>\n",
       "      <td>38.0</td>\n",
       "      <td>36.0</td>\n",
       "      <td>40.0</td>\n",
       "      <td>15.0</td>\n",
       "      <td>...</td>\n",
       "      <td>0</td>\n",
       "      <td>0</td>\n",
       "      <td>0</td>\n",
       "      <td>0</td>\n",
       "      <td>0</td>\n",
       "      <td>0</td>\n",
       "      <td>0</td>\n",
       "      <td>0</td>\n",
       "      <td>0</td>\n",
       "      <td>2022-05-12 22:00:00</td>\n",
       "    </tr>\n",
       "    <tr>\n",
       "      <th>2022-05-12 23:00:00</th>\n",
       "      <td>23</td>\n",
       "      <td>3796</td>\n",
       "      <td>3</td>\n",
       "      <td>5</td>\n",
       "      <td>34.0</td>\n",
       "      <td>37.0</td>\n",
       "      <td>38.0</td>\n",
       "      <td>36.0</td>\n",
       "      <td>40.0</td>\n",
       "      <td>15.0</td>\n",
       "      <td>...</td>\n",
       "      <td>0</td>\n",
       "      <td>0</td>\n",
       "      <td>0</td>\n",
       "      <td>0</td>\n",
       "      <td>0</td>\n",
       "      <td>0</td>\n",
       "      <td>0</td>\n",
       "      <td>0</td>\n",
       "      <td>0</td>\n",
       "      <td>2022-05-12 23:00:00</td>\n",
       "    </tr>\n",
       "  </tbody>\n",
       "</table>\n",
       "<p>2 rows × 29 columns</p>\n",
       "</div>"
      ],
      "text/plain": [
       "                     Hour  Energy_Demand  Day  Month  Tmax-Cab  Tmax-Hmo  \\\n",
       "Date_time                                                                  \n",
       "2022-05-12 22:00:00    22           3777    3      5      34.0      37.0   \n",
       "2022-05-12 23:00:00    23           3796    3      5      34.0      37.0   \n",
       "\n",
       "                     Tmax-Obr  Tmax-Lmo  Tmax-Cul  Tmin-Cab  ...  \\\n",
       "Date_time                                                    ...   \n",
       "2022-05-12 22:00:00      38.0      36.0      40.0      15.0  ...   \n",
       "2022-05-12 23:00:00      38.0      36.0      40.0      15.0  ...   \n",
       "\n",
       "                     Tuesday_Aft_Hol  Easter_week  May_1s  May_10t  Sept_16  \\\n",
       "Date_time                                                                     \n",
       "2022-05-12 22:00:00                0            0       0        0        0   \n",
       "2022-05-12 23:00:00                0            0       0        0        0   \n",
       "\n",
       "                     Nov_2nd  Before_Christmas_NY  Christmas_NY  \\\n",
       "Date_time                                                         \n",
       "2022-05-12 22:00:00        0                    0             0   \n",
       "2022-05-12 23:00:00        0                    0             0   \n",
       "\n",
       "                     After_Christmas_NY          Date_timed  \n",
       "Date_time                                                    \n",
       "2022-05-12 22:00:00                   0 2022-05-12 22:00:00  \n",
       "2022-05-12 23:00:00                   0 2022-05-12 23:00:00  \n",
       "\n",
       "[2 rows x 29 columns]"
      ]
     },
     "execution_count": 3,
     "metadata": {},
     "output_type": "execute_result"
    }
   ],
   "source": [
    "#leer el archivo generado en la libreta Y00\n",
    "today = date.today().strftime(\"%Y-%m-%d\")\n",
    "\n",
    "#Guardar nuevo dataframe con  date index\n",
    "path = os.path.dirname(os.getcwd()) #leer ubicacion carpeta actual\n",
    "\n",
    "df_GCRNO_complete = pd.read_csv(path + '/internal_inputs/' + 'GCRNO_complete_silver_' + today + '.csv', parse_dates=True)\n",
    "df_GCRNO_complete['Date_time'] =  pd.to_datetime(df_GCRNO_complete['Date_time'],format='%Y-%m-%d %H:%M:%S')\n",
    "df_GCRNO_complete.set_index(\"Date_time\", inplace=True)\n",
    "df_GCRNO_complete = df_GCRNO_complete.asfreq('h')\n",
    "\n",
    "# Duplicar columna Date-Timed para flexibilidad\n",
    "df_GCRNO_complete['Date_timed'] = df_GCRNO_complete.index\n",
    "df_GCRNO_complete.tail(2)"
   ]
  },
  {
   "cell_type": "markdown",
   "id": "5bb6175c",
   "metadata": {
    "heading_collapsed": true
   },
   "source": [
    "## 3.   Creación de conjuntos de entrenamiento, validación y prueba"
   ]
  },
  {
   "cell_type": "code",
   "execution_count": 4,
   "id": "92b81a4f",
   "metadata": {
    "hidden": true
   },
   "outputs": [],
   "source": [
    "# Definir las fechas de división para los conjuntos de validación y prueba\n",
    "# **Testing:** Conjunto de Prueba toma en cuenta los ultimos 12 meses\n",
    "# **Validation** Validación toma en cuenta  4 meses previos al período de prueba\n",
    "# **Training:** Conjunto de entrenamiento, toma en cuenta el resto de los datos después de dividir  prueba y validación\n",
    "testing_start = df_GCRNO_complete.index.max() - relativedelta(months = 1) ## PARA LA VERSION FINAL CAMBIAR 1 POR 12\n",
    "validation_start = testing_start - relativedelta(months = 1)  ## PARA LA VERSION FINAL CAMBIAR 1 POR 4"
   ]
  },
  {
   "cell_type": "code",
   "execution_count": 5,
   "id": "7957f58e",
   "metadata": {
    "hidden": true
   },
   "outputs": [],
   "source": [
    "# Dividir los datos entrenamiento, validación y prueba\n",
    "training_data = df_GCRNO_complete.loc[df_GCRNO_complete.index <= validation_start]\n",
    "validation_data = df_GCRNO_complete.loc[(df_GCRNO_complete.index > validation_start) & (df_GCRNO_complete.index <= testing_start)]\n",
    "testing_data = df_GCRNO_complete.loc[df_GCRNO_complete.index >testing_start]"
   ]
  },
  {
   "cell_type": "code",
   "execution_count": 6,
   "id": "9ae9e522",
   "metadata": {
    "hidden": true
   },
   "outputs": [],
   "source": [
    "#Exportar información de set de entrenamiento, validación y prueba al archivo model_info.txt"
   ]
  },
  {
   "cell_type": "code",
   "execution_count": 7,
   "id": "5f0a0f94",
   "metadata": {
    "hidden": true
   },
   "outputs": [],
   "source": [
    "%%capture cap --no-stderr\n",
    "print(f'Training data size: {len(training_data)}')\n",
    "print(f'Validation data size: {len(validation_data)}')\n",
    "print(f'Testing data size: {len(testing_data)}')"
   ]
  },
  {
   "cell_type": "code",
   "execution_count": 8,
   "id": "6336306c",
   "metadata": {
    "hidden": true
   },
   "outputs": [],
   "source": [
    "with open('./outputs/model_info.txt', 'w') as f:\n",
    "    f.write(cap.stdout)"
   ]
  },
  {
   "cell_type": "code",
   "execution_count": 9,
   "id": "d0f4a8b1",
   "metadata": {
    "hidden": true
   },
   "outputs": [],
   "source": [
    "%%capture cap --no-stderr\n",
    "print('Training set:', training_data.index.min(),'-TO-', training_data.index.max())\n",
    "print('Validation set:', validation_data.index.min(),'-TO-', validation_data.index.max())\n",
    "print('Testing set:', testing_data.index.min(),'-TO-',testing_data.index.max())"
   ]
  },
  {
   "cell_type": "code",
   "execution_count": 10,
   "id": "f0f16da7",
   "metadata": {
    "hidden": true
   },
   "outputs": [],
   "source": [
    "with open('./outputs/model_info.txt', 'a') as f:\n",
    "    f.write(cap.stdout)"
   ]
  },
  {
   "cell_type": "markdown",
   "id": "1d3718d1",
   "metadata": {
    "heading_collapsed": true
   },
   "source": [
    "## 4.    PCA "
   ]
  },
  {
   "cell_type": "code",
   "execution_count": 11,
   "id": "a654ed0c",
   "metadata": {
    "hidden": true
   },
   "outputs": [],
   "source": [
    "# Nuevas columnas en set de entrenamiento\n",
    "## Se aplica análisis de componentes principales a variables climáticas, después de la estandarización de las mismas\n",
    "## Se guardan los parámetros de  estandarización y PCA n\n",
    "## Se ejecuta función 'exogen_pca' :\n",
    "### 'dataset_complete_components_train' : datos de entrenamiento con primeras 2 componentes de PCA añadidas\n",
    "### 'pca_clima' :parámetros de entrenamiento de procedimiento PCA\n",
    "### 'scaler_model_clima' : parámetros de entrenamiento de std scaler\n",
    "dataset_complete_components_train, pca_clima, scaler_model_clima = exogen_pca(training_data, 'Date_timed')\n",
    "dataset_complete_components_train.to_csv('./internal_inputs/PCA/dataset_complete_components_train.csv')\n",
    "\n",
    "## Exportando parámetros de procesamiento para su uso fuera de la libreta\n",
    "pk.dump(pca_clima, open('./internal_inputs/PCA/pca_clima.pkl','wb'))\n",
    "pk.dump(scaler_model_clima, open('./internal_inputs/PCA/scaler_model_clima.pkl','wb'))\n",
    "\n",
    "# Aplicar parámetros de training a\n",
    "## set de validación\n",
    "dataset_complete_components_val = transform_data(validation_data,'Date_timed',pca_clima,scaler_model_clima)\n",
    "dataset_complete_components_val.to_csv('./internal_inputs/PCA/dataset_complete_components_val.csv')\n",
    "## Test set  \n",
    "dataset_complete_components_test = transform_data(testing_data,'Date_timed',pca_clima,scaler_model_clima)\n",
    "dataset_complete_components_test.to_csv('./internal_inputs/PCA/dataset_complete_components_test.csv')"
   ]
  },
  {
   "cell_type": "markdown",
   "id": "4e461c31",
   "metadata": {
    "heading_collapsed": true
   },
   "source": [
    "## 5.    MINMAX [-1,1]"
   ]
  },
  {
   "cell_type": "code",
   "execution_count": 12,
   "id": "bd7f222e",
   "metadata": {
    "hidden": true
   },
   "outputs": [],
   "source": [
    "Features = ['Energy_Demand', 'Day', 'Hour', 'Month','PC1_Weather','PC2_Weather',\n",
    "            'Monday_Holiday', 'Tuesday_Aft_Hol', 'Easter_week', 'May_1s', 'May_10t', \n",
    "            'Sept_16', 'Nov_2nd', 'Before_Christmas_NY', 'Christmas_NY', 'After_Christmas_NY']"
   ]
  },
  {
   "cell_type": "code",
   "execution_count": 13,
   "id": "ba7c73a2",
   "metadata": {
    "hidden": true
   },
   "outputs": [],
   "source": [
    "# Reescalar set de entrenamiento\n",
    "train = dataset_complete_components_train\n",
    "scalers = {} #dicccionario\n",
    "\n",
    "for attr in Features:\n",
    "    scaler = MinMaxScaler(feature_range=(-1, 1))\n",
    "    s_s = scaler.fit_transform(train[attr].values.reshape(-1,1))\n",
    "    scalers[attr] = scaler\n",
    "    train[attr] = s_s.ravel()\n",
    "\n",
    "#   Exportar parámetros\n",
    "pk.dump(scalers, open('./internal_inputs/MINMAX/scalers.pkl','wb'))    \n",
    "    \n",
    "# Applicando parámetros de training a\n",
    "## set de validación\n",
    "val = dataset_complete_components_val\n",
    "for attr in Features:\n",
    "    scaler = scalers[attr]\n",
    "    s_s = scaler.transform(val[attr].values.reshape(-1,1))\n",
    "    val[attr] = s_s.ravel()\n",
    "## Test set\n",
    "test = dataset_complete_components_test\n",
    "for attr in Features:\n",
    "    scaler = scalers[attr]\n",
    "    s_s = scaler.transform(test[attr].values.reshape(-1,1))\n",
    "    test[attr] = s_s.ravel()"
   ]
  },
  {
   "cell_type": "markdown",
   "id": "880bd7e4",
   "metadata": {
    "heading_collapsed": true
   },
   "source": [
    "## 6. Generación de tensores"
   ]
  },
  {
   "cell_type": "code",
   "execution_count": 14,
   "id": "6d6ce983",
   "metadata": {
    "hidden": true,
    "tags": []
   },
   "outputs": [],
   "source": [
    "#Ajustando hiperparámetros\n",
    "n_pasado = (24 * 7) + 12\n",
    "n_futuro = 36"
   ]
  },
  {
   "cell_type": "code",
   "execution_count": 15,
   "id": "d6a1cd79",
   "metadata": {
    "hidden": true
   },
   "outputs": [],
   "source": [
    "def divide_series(series, n_pasado, n_futuro):\n",
    "    \"\"\"\n",
    "    n_pasado: number of past observations for the encoder\n",
    "    n_futuro: number of future observations and inputs given in advance for the decoder\n",
    "    \"\"\"\n",
    "    X_encoder, X_decoder, y = list(), list(), list()  \n",
    "    generador = range(len(series))\n",
    "\n",
    "    for ini in generador:\n",
    "        fin_anterior = ini + n_pasado\n",
    "        fin_actual = fin_anterior + n_futuro\n",
    "        if fin_actual > len(series):\n",
    "            break\n",
    "        past_encoder = series[ini: fin_anterior, :]\n",
    "        future_decoder = series[fin_anterior: fin_actual, [1,4,5,6,7,8,9,10,11,12,13,14,15]]\n",
    "        future_output = series[fin_anterior: fin_actual, :1]\n",
    "        X_encoder.append(past_encoder)\n",
    "        X_decoder.append(future_decoder)\n",
    "        y.append(future_output)\n",
    "             \n",
    "    return np.array(X_encoder), np.array(X_decoder), np.array(y)"
   ]
  },
  {
   "cell_type": "code",
   "execution_count": 16,
   "id": "4b6272e3",
   "metadata": {
    "hidden": true
   },
   "outputs": [],
   "source": [
    "all_features = ['Energy_Demand', \n",
    "                'Day', \n",
    "                'Hour', \n",
    "                'Month', \n",
    "                'PC1_Weather',\n",
    "                'PC2_Weather',\n",
    "                'Monday_Holiday', \n",
    "                'Tuesday_Aft_Hol', \n",
    "                'Easter_week',\n",
    "                'May_1s', \n",
    "                'May_10t', \n",
    "                'Sept_16', \n",
    "                'Nov_2nd', \n",
    "                'Before_Christmas_NY',\n",
    "                'Christmas_NY', \n",
    "                'After_Christmas_NY'\n",
    "               ]"
   ]
  },
  {
   "cell_type": "code",
   "execution_count": 17,
   "id": "d200f3b3",
   "metadata": {
    "hidden": true
   },
   "outputs": [],
   "source": [
    "#Definir tensores\n",
    "X_encoder_train, X_decoder_train, y_train = divide_series(train[all_features].values, n_pasado, n_futuro)\n",
    "X_encoder_val, X_decoder_val, y_val = divide_series(val[all_features].values, n_pasado, n_futuro)\n",
    "X_encoder_test, X_decoder_test, y_test = divide_series(test[all_features].values, n_pasado, n_futuro) "
   ]
  },
  {
   "cell_type": "markdown",
   "id": "bd369458",
   "metadata": {
    "heading_collapsed": true
   },
   "source": [
    "## 7. Guardado de tensores"
   ]
  },
  {
   "cell_type": "code",
   "execution_count": 18,
   "id": "00cc3660-e9b3-4882-b52e-40da83182ce5",
   "metadata": {
    "hidden": true,
    "tags": []
   },
   "outputs": [],
   "source": [
    "%%capture cap --no-stderr\n",
    "print('X_encoder_train tensor size:', X_encoder_train.shape,'\\n', \n",
    "      'X_decoder_train tensor size:', X_decoder_train.shape,'\\n',\n",
    "      'y_train tensor size:', y_train.shape\n",
    "     )\n",
    "print('X_encoder_val tensor size:', X_encoder_val.shape,'\\n', \n",
    "      'X_decoder_val tensor size:', X_decoder_val.shape,'\\n',\n",
    "      'y_val tensor size:', y_val.shape\n",
    "     )\n",
    "print('X_encoder_test tensor size:', X_encoder_test.shape,'\\n', \n",
    "      'X_decoder_test tensor size:', X_decoder_test.shape,'\\n',\n",
    "      'y_test tensor size:', y_test.shape\n",
    "     )\n",
    "print('DATE:', today,'\\n'\n",
    "     )"
   ]
  },
  {
   "cell_type": "code",
   "execution_count": 19,
   "id": "513f3a4f",
   "metadata": {
    "hidden": true
   },
   "outputs": [],
   "source": [
    "with open('./outputs/model_info.txt', 'a') as f:\n",
    "    f.write(cap.stdout)"
   ]
  },
  {
   "cell_type": "code",
   "execution_count": 20,
   "id": "68ed2268",
   "metadata": {
    "hidden": true
   },
   "outputs": [],
   "source": [
    "np.save('./internal_inputs/TENSORS/X_encoder_train.npy', X_encoder_train)\n",
    "np.save('./internal_inputs/TENSORS/X_decoder_train.npy', X_decoder_train)\n",
    "np.save('./internal_inputs/TENSORS/y_train.npy', y_train)\n",
    "np.save('./internal_inputs/TENSORS/X_encoder_val.npy', X_encoder_val)\n",
    "np.save('./internal_inputs/TENSORS/X_decoder_val.npy', X_decoder_val)\n",
    "np.save('./internal_inputs/TENSORS/y_val.npy', y_val)\n",
    "np.save('./internal_inputs/TENSORS/X_encoder_test.npy', X_encoder_test)\n",
    "np.save('./internal_inputs/TENSORS/X_decoder_test.npy', X_decoder_test)\n",
    "np.save('./internal_inputs/TENSORS/y_test.npy', y_test)"
   ]
  },
  {
   "cell_type": "markdown",
   "id": "bec571e5",
   "metadata": {
    "hidden": true
   },
   "source": [
    "<summary>\n",
    "    <font size=\"4\" color=\"gray\"> Maestría en Ciencia de Datos | Universidad de Sonora </font>\n",
    "</summary>\n",
    "<font size=\"1\" color=\"gray\"> Blvd. Luis Encinas y Rosales s/n Col. Centro. Edificio 3K1 planta baja C.P. 83000, Hermosillo, Sonora, México </font>\n",
    "<font size=\"1\" color=\"gray\"> mcd@unison.mx </font>\n",
    "<font size=\"1\" color=\"gray\"> Tel: +52 (662) 259 2155  </font>"
   ]
  },
  {
   "cell_type": "markdown",
   "id": "485adc07",
   "metadata": {
    "hidden": true
   },
   "source": [
    "\n"
   ]
  }
 ],
 "metadata": {
  "hide_input": false,
  "kernelspec": {
   "display_name": "Python 3 (ipykernel)",
   "language": "python",
   "name": "python3"
  },
  "language_info": {
   "codemirror_mode": {
    "name": "ipython",
    "version": 3
   },
   "file_extension": ".py",
   "mimetype": "text/x-python",
   "name": "python",
   "nbconvert_exporter": "python",
   "pygments_lexer": "ipython3",
   "version": "3.9.18"
  },
  "vscode": {
   "interpreter": {
    "hash": "e46e305cb1b2e9023b322cb83f073976ae87c5c5e6ccde536e6571681080371c"
   }
  }
 },
 "nbformat": 4,
 "nbformat_minor": 5
}
