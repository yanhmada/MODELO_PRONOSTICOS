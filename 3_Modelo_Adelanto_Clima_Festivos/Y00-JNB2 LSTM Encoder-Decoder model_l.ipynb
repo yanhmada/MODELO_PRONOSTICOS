{
 "cells": [
  {
   "cell_type": "markdown",
   "id": "e4ddfc88",
   "metadata": {},
   "source": [
    "<summary>\n",
    "    <font size=\"5\" color=\"gray\"><b> CONVENIO CENACE-UNISON 2023-2025\n",
    " </b></font>\n",
    "</summary>\n",
    "<summary>\n",
    "    <font size=\"4\" color=\"orange\"><b> DISEÑO E IMPLEMENTACIÓN DE UNA METODOLOGÍA PARA PRONÓSTICO DE DEMANDA DE ENERGÍA A CORTO PLAZO CON MANEJO DE DATOS BAJO INCERTIDUMBRE\n",
    " </b></font>\n",
    "</summary>\n",
    "\n",
    "---\n",
    "\n",
    "<summary>\n",
    "    <font size=\"6\" color=\"gray\"><b> Libreta JNB2: Entrenamiento \n",
    " </b></font>\n",
    "</summary>\n",
    "<summary>\n",
    "    <font size=\"5\" color=\"gray\"><b> Modelado parte 2\n",
    " </b></font>\n",
    "</summary>\n",
    "\n",
    "--- \n",
    "\n",
    "<summary>\n",
    "    <font size=\"4\" color=\"lightblue\"><b> MODELO ENCODER-DECODER CON SEÑALES DE DÍAS FESTIVOS Y CLIMA EN ADELANTO\n",
    " </b></font>\n",
    "</summary>\n",
    "\n",
    "---\n",
    "\n",
    "    \n",
    "OLIVIA CAROLINA GUTÚ OCAMPO\n",
    "\n",
    "REYNA YANET HERNÁNDEZ MADA\n",
    "\n",
    "JULIO WAISSMAN VILANOVA (Responsable del proyecto)\n",
    "\n",
    "\n",
    "---\n",
    "\n",
    "\n",
    "<summary>\n",
    "    <font size=\"4\" color=\"orange\"><b> INPUTS\n",
    " </b></font>\n",
    "</summary>\n",
    "\n",
    "   * **'./internal_inputs/TENSORS/X_encoder_train.npy'** \n",
    "   * **'./internal_inputs/TENSORS/X_decoder_train.npy'** \n",
    "   * **'./internal_inputs/TENSORS/y_train.npy'** \n",
    "   * **'./internal_inputs/TENSORS/X_encoder_val.npy'** \n",
    "   * **'./internal_inputs/TENSORS/X_decoder_val.npy'** \n",
    "   * **'./internal_inputs/TENSORS/y_val.npy'** \n",
    "   * **'./internal_inputs/TENSORS/X_encoder_test.npy'** \n",
    "   * **'./internal_inputs/TENSORS/X_decoder_test.npy'** \n",
    "   * **'./internal_inputs/TENSORS/y_test.npy'** \n",
    "\n",
    "--- \n",
    "<summary>\n",
    "    <font size=\"4\" color=\"orange\"><b> CHECK POINTS\n",
    " </b></font>\n",
    "</summary>\n",
    "\n",
    "   * Verificación de curvas de aprendizaje.\n",
    "    \n",
    "   * Verificación de performace (MAPE) sobre el conjunto de prueba.\n",
    "\n",
    "---\n",
    "<summary>\n",
    "    <font size=\"4\" color=\"orange\"><b> OUTPUTS\n",
    " </b></font>\n",
    "</summary>\n",
    "\n",
    "Se exportan finalmente, el pronóstico sobre el tensor de datos de prueba (antes del escalamiento final), las curvas de aprendizaje y el modelo.\n",
    "    \n",
    "   *  **'./outputs/MODEL/y_estimado_antes_minmax.npy'**\n",
    "   *  **'./outputs/MODEL/training_loss.npy'**\n",
    "   *  **'./outputs/MODEL/val_loss.npy'**\n",
    "   *  **'./outputs/MODEL/modelo.h5'**\n"
   ]
  },
  {
   "cell_type": "markdown",
   "id": "d7287675",
   "metadata": {
    "heading_collapsed": true
   },
   "source": [
    "## 1.   Importing libraries"
   ]
  },
  {
   "cell_type": "code",
   "execution_count": 1,
   "id": "5a7c2c32",
   "metadata": {
    "hidden": true
   },
   "outputs": [],
   "source": [
    "# Basic libraries\n",
    "import numpy as np\n",
    "import pandas as pd\n",
    "import matplotlib.pyplot as plt\n",
    "import os\n",
    "\n",
    "# Normalization  libraries\n",
    "from sklearn.preprocessing import MinMaxScaler\n",
    "from sklearn.metrics import mean_absolute_percentage_error, r2_score\n",
    "\n",
    "# Tensorflow with keras\n",
    "import tensorflow as tf\n",
    "from tensorflow import keras\n",
    "from tensorflow.keras import layers\n",
    "\n",
    "# Auxiliar libraries\n",
    "import plotly.express as px\n",
    "import plotly.graph_objects as go\n",
    "import plotly.io as pio\n",
    "pio.renderers.default='notebook'\n",
    "import pickle as pk\n",
    "import scipy\n",
    "from scipy import stats\n",
    "import warnings\n",
    "warnings.filterwarnings('ignore')"
   ]
  },
  {
   "cell_type": "markdown",
   "id": "9427d327",
   "metadata": {
    "heading_collapsed": true
   },
   "source": [
    "## 2.   Getting tensor inputs"
   ]
  },
  {
   "cell_type": "code",
   "execution_count": 2,
   "id": "fbb27cbb",
   "metadata": {
    "hidden": true
   },
   "outputs": [],
   "source": [
    "# Importing tensors\n",
    "X_encoder_train = np.load('./internal_inputs/TENSORS/X_encoder_train.npy')\n",
    "X_decoder_train = np.load('./internal_inputs/TENSORS/X_decoder_train.npy')\n",
    "y_train = np.load('./internal_inputs/TENSORS/y_train.npy')\n",
    "X_encoder_val = np.load('./internal_inputs/TENSORS/X_encoder_val.npy')\n",
    "X_decoder_val = np.load('./internal_inputs/TENSORS/X_decoder_val.npy')\n",
    "y_val = np.load('./internal_inputs/TENSORS/y_val.npy')\n",
    "X_encoder_test = np.load('./internal_inputs/TENSORS/X_encoder_test.npy')\n",
    "X_decoder_test = np.load('./internal_inputs/TENSORS/X_decoder_test.npy') \n",
    "y_test = np.load('./internal_inputs/TENSORS/y_test.npy')"
   ]
  },
  {
   "cell_type": "markdown",
   "id": "ec61312c",
   "metadata": {
    "heading_collapsed": true
   },
   "source": [
    "## 3.   Setting the model"
   ]
  },
  {
   "cell_type": "code",
   "execution_count": 3,
   "id": "dad2be2e",
   "metadata": {
    "hidden": true
   },
   "outputs": [],
   "source": [
    "## Setting the features\n",
    "all_features = ['Energy_Demand', \n",
    "                'Day', \n",
    "                'Hour', \n",
    "                'Month', \n",
    "                'PC1_Weather',\n",
    "                'PC2_Weather',\n",
    "                'Monday_Holiday', \n",
    "                'Tuesday_Aft_Hol', \n",
    "                'Easter_week',\n",
    "                'May_1s', \n",
    "                'May_10t', \n",
    "                'Sept_16', \n",
    "                'Nov_2nd', \n",
    "                'Before_Christmas_NY',\n",
    "                'Christmas_NY', \n",
    "                'After_Christmas_NY'\n",
    "               ]"
   ]
  },
  {
   "cell_type": "code",
   "execution_count": 4,
   "id": "c3595394",
   "metadata": {
    "hidden": true
   },
   "outputs": [],
   "source": [
    "# Setting hyperparametres\n",
    "n_pasado = (24 * 7) + 12\n",
    "n_futuro = 36 \n",
    "m = len(all_features)"
   ]
  },
  {
   "cell_type": "code",
   "execution_count": 8,
   "id": "aa41b217",
   "metadata": {
    "hidden": true
   },
   "outputs": [
    {
     "name": "stderr",
     "output_type": "stream",
     "text": [
      "2023-09-08 18:46:47.411318: I tensorflow/core/platform/cpu_feature_guard.cc:151] This TensorFlow binary is optimized with oneAPI Deep Neural Network Library (oneDNN) to use the following CPU instructions in performance-critical operations:  AVX2 FMA\n",
      "To enable them in other operations, rebuild TensorFlow with the appropriate compiler flags.\n"
     ]
    }
   ],
   "source": [
    "# Setting encoder\n",
    "encoder_inputs = layers.Input(shape = (n_pasado, m), name = 'encoder_inputs')\n",
    "\n",
    "encoder_l1 = layers.LSTM(100, return_state = True) # 100: dimension of hidden states\n",
    "encoder_outputs1 = encoder_l1(encoder_inputs)\n",
    "\n",
    "encoder_states1 = encoder_outputs1[1:]\n",
    "\n",
    "# Setting encoder\n",
    "decoder_inputs = layers.Input(\n",
    "    shape = (n_futuro, 12), name = 'decoder_inputs') # Future given in advance\n",
    "\n",
    "decoder_l1 = layers.LSTM(100, return_sequences=True) # 100: dimension of hidden states\n",
    "decoder_l1_output = decoder_l1(decoder_inputs, initial_state = encoder_states1)\n",
    "\n",
    "decoder_l2 = layers.TimeDistributed(layers.Dense(1)) # just one dense layer\n",
    "decoder_outputs = decoder_l2(decoder_l1_output)"
   ]
  },
  {
   "cell_type": "code",
   "execution_count": 9,
   "id": "2817df47",
   "metadata": {
    "hidden": true
   },
   "outputs": [
    {
     "name": "stdout",
     "output_type": "stream",
     "text": [
      "Model: \"model\"\n",
      "__________________________________________________________________________________________________\n",
      " Layer (type)                   Output Shape         Param #     Connected to                     \n",
      "==================================================================================================\n",
      " encoder_inputs (InputLayer)    [(None, 180, 16)]    0           []                               \n",
      "                                                                                                  \n",
      " decoder_inputs (InputLayer)    [(None, 36, 12)]     0           []                               \n",
      "                                                                                                  \n",
      " lstm (LSTM)                    [(None, 100),        46800       ['encoder_inputs[0][0]']         \n",
      "                                 (None, 100),                                                     \n",
      "                                 (None, 100)]                                                     \n",
      "                                                                                                  \n",
      " lstm_1 (LSTM)                  (None, 36, 100)      45200       ['decoder_inputs[0][0]',         \n",
      "                                                                  'lstm[0][1]',                   \n",
      "                                                                  'lstm[0][2]']                   \n",
      "                                                                                                  \n",
      " time_distributed (TimeDistribu  (None, 36, 1)       101         ['lstm_1[0][0]']                 \n",
      " ted)                                                                                             \n",
      "                                                                                                  \n",
      "==================================================================================================\n",
      "Total params: 92,101\n",
      "Trainable params: 92,101\n",
      "Non-trainable params: 0\n",
      "__________________________________________________________________________________________________\n"
     ]
    }
   ],
   "source": [
    "modelo = tf.keras.models.Model(\n",
    "    inputs = [encoder_inputs, decoder_inputs], outputs = decoder_outputs)\n",
    "modelo.summary()"
   ]
  },
  {
   "cell_type": "markdown",
   "id": "8bde72ef",
   "metadata": {
    "heading_collapsed": true
   },
   "source": [
    "## 4.   Training the model"
   ]
  },
  {
   "cell_type": "code",
   "execution_count": 10,
   "id": "892bd0fe",
   "metadata": {
    "hidden": true
   },
   "outputs": [
    {
     "name": "stdout",
     "output_type": "stream",
     "text": [
      "Epoch 1/25\n",
      "3838/3838 [==============================] - 269s 69ms/step - loss: 0.0398 - val_loss: 0.0258 - lr: 0.0010\n",
      "Epoch 2/25\n",
      "3838/3838 [==============================] - 264s 69ms/step - loss: 0.0246 - val_loss: 0.0198 - lr: 9.0000e-04\n",
      "Epoch 3/25\n",
      "3838/3838 [==============================] - 1756s 458ms/step - loss: 0.0220 - val_loss: 0.0184 - lr: 8.1000e-04\n",
      "Epoch 4/25\n",
      "3838/3838 [==============================] - 267s 70ms/step - loss: 0.0202 - val_loss: 0.0167 - lr: 7.2900e-04\n",
      "Epoch 5/25\n",
      "3838/3838 [==============================] - 268s 70ms/step - loss: 0.0192 - val_loss: 0.0172 - lr: 6.5610e-04\n",
      "Epoch 6/25\n",
      "3838/3838 [==============================] - 265s 69ms/step - loss: 0.0182 - val_loss: 0.0183 - lr: 5.9049e-04\n",
      "Epoch 7/25\n",
      "3838/3838 [==============================] - 258s 67ms/step - loss: 0.0175 - val_loss: 0.0190 - lr: 5.3144e-04\n",
      "Epoch 8/25\n",
      "3838/3838 [==============================] - 259s 67ms/step - loss: 0.0169 - val_loss: 0.0156 - lr: 4.7830e-04\n",
      "Epoch 9/25\n",
      "3838/3838 [==============================] - 2890s 753ms/step - loss: 0.0163 - val_loss: 0.0160 - lr: 4.3047e-04\n",
      "Epoch 10/25\n",
      "3838/3838 [==============================] - 268s 70ms/step - loss: 0.0157 - val_loss: 0.0149 - lr: 3.8742e-04\n",
      "Epoch 11/25\n",
      "3838/3838 [==============================] - 251s 66ms/step - loss: 0.0153 - val_loss: 0.0160 - lr: 3.4868e-04\n",
      "Epoch 12/25\n",
      "3838/3838 [==============================] - 259s 67ms/step - loss: 0.0149 - val_loss: 0.0144 - lr: 3.1381e-04\n",
      "Epoch 13/25\n",
      "3838/3838 [==============================] - 261s 68ms/step - loss: 0.0145 - val_loss: 0.0146 - lr: 2.8243e-04\n",
      "Epoch 14/25\n",
      "3838/3838 [==============================] - 255s 66ms/step - loss: 0.0141 - val_loss: 0.0142 - lr: 2.5419e-04\n",
      "Epoch 15/25\n",
      "3838/3838 [==============================] - 251s 65ms/step - loss: 0.0138 - val_loss: 0.0144 - lr: 2.2877e-04\n",
      "Epoch 16/25\n",
      "3838/3838 [==============================] - 2017s 526ms/step - loss: 0.0135 - val_loss: 0.0150 - lr: 2.0589e-04\n",
      "Epoch 17/25\n",
      "3838/3838 [==============================] - 1214s 316ms/step - loss: 0.0132 - val_loss: 0.0143 - lr: 1.8530e-04\n",
      "Epoch 18/25\n",
      "3838/3838 [==============================] - 260s 68ms/step - loss: 0.0130 - val_loss: 0.0151 - lr: 1.6677e-04\n",
      "Epoch 19/25\n",
      "3838/3838 [==============================] - 4399s 1s/step - loss: 0.0127 - val_loss: 0.0148 - lr: 1.5009e-04\n",
      "Model stopped training early at epoch 19\n"
     ]
    }
   ],
   "source": [
    "# Sets the function for the rate learning in such a way that earning rate is smaller en each epoch\n",
    "reduce_lr = keras.callbacks.LearningRateScheduler(lambda x: 1e-3 * 0.90 ** x) \n",
    "\n",
    "## During the run, the models of \"best\" result are stored according to \"val_loss\"\n",
    "path_checkpoint = './outputs/MODEL/model_checkpoint.h5'\n",
    "modelckpt_callback = keras.callbacks.ModelCheckpoint(\n",
    "    monitor = 'val_loss',\n",
    "    filepath = path_checkpoint,\n",
    "    verbose = 1,\n",
    "    save_weights_only = True,\n",
    "    save_best_only = True,\n",
    ")\n",
    "\n",
    "## Setting the number of epochs with no improvement after which training will be stopped, \n",
    "## with respect to \"val_loss\". This is to avoid overfitting.\n",
    "es_callback = keras.callbacks.EarlyStopping(\n",
    "    monitor = 'val_loss', \n",
    "    min_delta = 0, \n",
    "    patience = 5 \n",
    "    \n",
    ")\n",
    "modelo.compile(\n",
    "    optimizer = keras.optimizers.Adam(), \n",
    "    loss = 'mae', \n",
    ")\n",
    "\n",
    "history = modelo.fit(\n",
    "    [X_encoder_train,X_decoder_train], y_train,\n",
    "    epochs = 25, \n",
    "    validation_data = ([X_encoder_val, X_decoder_val], y_val),\n",
    "    batch_size = 32,\n",
    "    callbacks = [reduce_lr, es_callback]\n",
    ") \n",
    "\n",
    "if es_callback.stopped_epoch < 25:\n",
    "    print(\"Model stopped training early at epoch\", es_callback.stopped_epoch + 1)\n",
    "else:\n",
    "    print(\"Model completed training for all 25 epochs\")"
   ]
  },
  {
   "cell_type": "markdown",
   "id": "43075d2f",
   "metadata": {
    "heading_collapsed": true
   },
   "source": [
    "## 5.   Check point: verify the learning curves"
   ]
  },
  {
   "cell_type": "code",
   "execution_count": 10,
   "id": "326c89a6",
   "metadata": {
    "hidden": true
   },
   "outputs": [
    {
     "data": {
      "text/plain": [
       "<matplotlib.legend.Legend at 0x7fed1561ab20>"
      ]
     },
     "execution_count": 10,
     "metadata": {},
     "output_type": "execute_result"
    },
    {
     "data": {
      "text/plain": [
       "<Figure size 432x288 with 0 Axes>"
      ]
     },
     "metadata": {},
     "output_type": "display_data"
    },
    {
     "data": {
      "image/png": "[encoded data removed]",
      "text/plain": [
       "<Figure size 2592x936 with 1 Axes>"
      ]
     },
     "metadata": {
      "needs_background": "light"
     },
     "output_type": "display_data"
    }
   ],
   "source": [
    "# Model Loss Chart\n",
    "fig = plt.figure()\n",
    "plt.figure(figsize=(36, 13))\n",
    "plt.plot(history.history['loss'])\n",
    "plt.plot(history.history['val_loss'])\n",
    "plt.title('Model loss')\n",
    "plt.ylabel('loss')\n",
    "plt.xlabel('epoch')\n",
    "plt.legend(['train', 'val'], loc='upper left')"
   ]
  },
  {
   "cell_type": "code",
   "execution_count": 11,
   "id": "f5b310ec",
   "metadata": {
    "hidden": true
   },
   "outputs": [],
   "source": [
    "# Exporting loss values during the training by epoch\n",
    "np.save('./outputs/MODEL/training_loss.npy', history.history['loss'])\n",
    "np.save('./outputs/MODEL/val_loss.npy', history.history['val_loss'])"
   ]
  },
  {
   "cell_type": "markdown",
   "id": "df025208",
   "metadata": {
    "heading_collapsed": true
   },
   "source": [
    "## 6.   Check point: verify the performance on test set"
   ]
  },
  {
   "cell_type": "code",
   "execution_count": 12,
   "id": "49b29431",
   "metadata": {
    "hidden": true
   },
   "outputs": [],
   "source": [
    "y_est = modelo.predict([X_encoder_test, X_decoder_test])"
   ]
  },
  {
   "cell_type": "code",
   "execution_count": 13,
   "id": "c39b8154",
   "metadata": {
    "hidden": true
   },
   "outputs": [],
   "source": [
    "# Exporting the tensor forecasting before transformation to the original scaler\n",
    "np.save('./outputs/MODEL/y_estimado_antes_minmax.npy', y_est)"
   ]
  },
  {
   "cell_type": "code",
   "execution_count": 14,
   "id": "a59580df",
   "metadata": {
    "hidden": true
   },
   "outputs": [],
   "source": [
    "scalers = pk.load(open(\"./internal_inputs/MINMAX/scalers.pkl\",'rb'))\n",
    "scaler = scalers['Energy_Demand']"
   ]
  },
  {
   "cell_type": "code",
   "execution_count": 15,
   "id": "bc4b100f",
   "metadata": {
    "hidden": true
   },
   "outputs": [
    {
     "data": {
      "text/plain": [
       "(array([1177., 3575., 1988.,  901.,  458.,  273.,  104.,   49.,   12.,\n",
       "           8.]),\n",
       " array([0.42249346, 1.04896826, 1.67544306, 2.30191786, 2.92839266,\n",
       "        3.55486746, 4.18134226, 4.80781705, 5.43429185, 6.06076665,\n",
       "        6.68724145]),\n",
       " <BarContainer object of 10 artists>)"
      ]
     },
     "execution_count": 15,
     "metadata": {},
     "output_type": "execute_result"
    },
    {
     "data": {
      "image/png": "[encoded data removed]",
      "text/plain": [
       "<Figure size 432x288 with 1 Axes>"
      ]
     },
     "metadata": {
      "needs_background": "light"
     },
     "output_type": "display_data"
    }
   ],
   "source": [
    "n = y_est.shape[0]\n",
    "forecast_mape = []\n",
    "for i in range(n):\n",
    "    y_test_original = scaler.inverse_transform(y_test[i-1])\n",
    "    y_est_final = scaler.inverse_transform(y_est[i-1])\n",
    "    mape = mean_absolute_percentage_error(y_test_original,y_est_final) * 100\n",
    "    forecast_mape.append(mape)\n",
    "plt.hist(forecast_mape)"
   ]
  },
  {
   "cell_type": "markdown",
   "id": "22ad51eb",
   "metadata": {
    "heading_collapsed": true
   },
   "source": [
    "## 7.   Exporting the model"
   ]
  },
  {
   "cell_type": "code",
   "execution_count": 11,
   "id": "2faa8650",
   "metadata": {
    "hidden": true
   },
   "outputs": [],
   "source": [
    "modelo.save('./outputs/MODEL/modelo_3.h5')"
   ]
  },
  {
   "cell_type": "markdown",
   "id": "1d7dc08d",
   "metadata": {
    "hidden": true
   },
   "source": [
    "<summary>\n",
    "    <font size=\"4\" color=\"gray\"> Maestría en Ciencia de Datos | Universidad de Sonora </font>\n",
    "</summary>\n",
    "<font size=\"1\" color=\"gray\"> Blvd. Luis Encinas y Rosales s/n Col. Centro. Edificio 3K1 planta baja C.P. 83000, Hermosillo, Sonora, México </font>\n",
    "<font size=\"1\" color=\"gray\"> mcd@unison.mx </font>\n",
    "<font size=\"1\" color=\"gray\"> Tel: +52 (662) 259 2155  </font>"
   ]
  }
 ],
 "metadata": {
  "hide_input": false,
  "kernelspec": {
   "display_name": "Python 3 (ipykernel)",
   "language": "python",
   "name": "python3"
  },
  "language_info": {
   "codemirror_mode": {
    "name": "ipython",
    "version": 3
   },
   "file_extension": ".py",
   "mimetype": "text/x-python",
   "name": "python",
   "nbconvert_exporter": "python",
   "pygments_lexer": "ipython3",
   "version": "3.8.12"
  },
  "vscode": {
   "interpreter": {
    "hash": "e46e305cb1b2e9023b322cb83f073976ae87c5c5e6ccde536e6571681080371c"
   }
  }
 },
 "nbformat": 4,
 "nbformat_minor": 5
}
