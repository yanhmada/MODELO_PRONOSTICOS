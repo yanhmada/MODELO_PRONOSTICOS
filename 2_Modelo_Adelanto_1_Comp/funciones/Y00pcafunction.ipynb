{
 "cells": [
  {
   "cell_type": "code",
   "execution_count": 1,
   "id": "24c70b24",
   "metadata": {},
   "outputs": [],
   "source": [
    "#importing scikit libraries\n",
    "from sklearn.preprocessing import StandardScaler\n",
    "from sklearn.decomposition import PCA\n",
    "import numpy as np\n",
    "    "
   ]
  },
  {
   "cell_type": "code",
   "execution_count": 2,
   "id": "21459735",
   "metadata": {},
   "outputs": [],
   "source": [
    "#pca function\n",
    "def pcafunction(x_data, y_data, num_componentes, name_column, name_index):\n",
    "\n",
    "    # standarizar\n",
    "    scaler_model = StandardScaler().fit(x_data)\n",
    "    x = scaler_model.transform(x_data) \n",
    " \n",
    "       \n",
    "    pca = PCA(n_components=num_componentes)\n",
    "    principalComponents = pca.fit_transform(x)\n",
    "    \n",
    "    pca_df = pd.DataFrame(principalComponents, columns=[f'PC1_{name_column}',\n",
    "                                                        f'PC2_{name_column}'\n",
    "                                                       ])\n",
    "    pca_df['Date_timed'] = y_data    \n",
    "    \n",
    "    return pca,pca_df,scaler_model #Scaler_model parameters"
   ]
  },
  {
   "cell_type": "code",
   "execution_count": 3,
   "id": "8dd05193",
   "metadata": {},
   "outputs": [],
   "source": [
    "def exogen_pca(dataframe, var_index):\n",
    "   \n",
    "    \n",
    "    dfvar = dataframe[['Energy_Demand', 'Day', 'Hour', 'Month','Tmax-Cab', 'Tmax-Hmo',\n",
    "               'Tmax-Obr', 'Tmax-Lmo', 'Tmax-Cul', 'Tmin-Cab', 'Tmin-Hmo', 'Tmin-Obr',\n",
    "               'Tmin-Lmo', 'Tmin-Cul','Prec_Hmo_Mm', 'Prec_Obr_Mm', 'Prec_Lmo_Mm',\n",
    "               'Prec_Cul_Mm',\n",
    "               'Monday_Holiday', 'Tuesday_Aft_Hol', 'Easter_week',\n",
    "               'May_1s', 'May_10t', 'Sept_16', 'Nov_2nd', 'Before_Christmas_NY',\n",
    "               'Christmas_NY', 'After_Christmas_NY']]\n",
    "    \n",
    "    dfvar['Date_timed']= dfvar.index\n",
    "    \n",
    "    #variables para pca\n",
    "    y = dataframe.loc[:,[var_index]].values\n",
    "    \n",
    "    #PCA CLIMATOLOGICAS\n",
    "    x_climatologicas = dataframe.loc[:,'Tmax-Cab':'Prec_Cul_Mm'].values \n",
    "    pca_clima,pca_df_clima, scaler_model_clima = pcafunction(x_climatologicas, y, 2, 'Weather', var_index)\n",
    "    \n",
    "    \n",
    "    #UNION DE LOS 2 DATAFRAMES\n",
    "    pca_df = pd.merge(pca_df_clima, dfvar, left_on=var_index, right_on='Date_timed', how='left')\n",
    "    del pca_df['Date_timed']\n",
    "    \n",
    "    return pca_df,pca_clima,scaler_model_clima"
   ]
  },
  {
   "cell_type": "code",
   "execution_count": 4,
   "id": "f0930d6c",
   "metadata": {},
   "outputs": [],
   "source": [
    "def new_dataframe(my_array,y_data,name_column, name_index ):\n",
    "    df = pd.DataFrame(my_array, columns=[f'PC1_{name_column}', f'PC2_{name_column}'])\n",
    "    df['Date_timed'] = y_data\n",
    "    \n",
    "    return df"
   ]
  },
  {
   "cell_type": "code",
   "execution_count": 5,
   "id": "054875e9",
   "metadata": {},
   "outputs": [],
   "source": [
    "def transform_data(dataframe, var_index,pca_clima,scaler_model_clima):\n",
    "    \n",
    "    #variables\n",
    "    dfvar = dataframe[['Energy_Demand', 'Day', 'Hour', 'Month', 'Tmax-Cab', 'Tmax-Hmo',\n",
    "       'Tmax-Obr', 'Tmax-Lmo', 'Tmax-Cul', 'Tmin-Cab', 'Tmin-Hmo', 'Tmin-Obr',\n",
    "       'Tmin-Lmo', 'Tmin-Cul', 'Prec_Hmo_Mm', 'Prec_Obr_Mm', 'Prec_Lmo_Mm',\n",
    "       'Prec_Cul_Mm',\n",
    "        'Monday_Holiday', 'Tuesday_Aft_Hol', 'Easter_week',\n",
    "       'May_1s', 'May_10t', 'Sept_16', 'Nov_2nd', 'Before_Christmas_NY',\n",
    "       'Christmas_NY', 'After_Christmas_NY']]\n",
    "    dfvar['Date_timed']= dfvar.index\n",
    "    #variables y\n",
    "    y = dfvar.index\n",
    "    \n",
    "    ##### PCA CLIMA #####\n",
    "    x_clima = dataframe.loc[:,'Tmax-Cab':'Prec_Cul_Mm'].values \n",
    "    #standarizacion  CLIMA\n",
    "    x_df_clima = scaler_model_clima.transform(x_clima) \n",
    "    #trasnformacion\n",
    "    clima = pca_clima.transform(x_df_clima)\n",
    "    \n",
    "    df_clima = new_dataframe(clima,y,'Weather', var_index )\n",
    "    \n",
    "    #UNION DE DATAFRAMES\n",
    "    pca_df = pd.merge(df_clima, dfvar, left_on=var_index, right_on='Date_timed', how='left')\n",
    "    \n",
    "    return pca_df\n",
    "    "
   ]
  }
 ],
 "metadata": {
  "kernelspec": {
   "display_name": "energia",
   "language": "python",
   "name": "energia"
  },
  "language_info": {
   "codemirror_mode": {
    "name": "ipython",
    "version": 3
   },
   "file_extension": ".py",
   "mimetype": "text/x-python",
   "name": "python",
   "nbconvert_exporter": "python",
   "pygments_lexer": "ipython3",
   "version": "3.10.9"
  },
  "vscode": {
   "interpreter": {
    "hash": "e46e305cb1b2e9023b322cb83f073976ae87c5c5e6ccde536e6571681080371c"
   }
  }
 },
 "nbformat": 4,
 "nbformat_minor": 5
}
